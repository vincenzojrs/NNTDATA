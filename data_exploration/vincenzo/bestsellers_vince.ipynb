{
  "nbformat": 4,
  "nbformat_minor": 0,
  "metadata": {
    "colab": {
      "name": "BESTSELLER.ipynb",
      "provenance": [],
      "collapsed_sections": []
    },
    "kernelspec": {
      "name": "python3",
      "display_name": "Python 3"
    },
    "language_info": {
      "name": "python"
    }
  },
  "cells": [
    {
      "cell_type": "code",
      "source": [
        "!pip install geopandas"
      ],
      "metadata": {
        "id": "LPVOP4fgCCs8"
      },
      "execution_count": null,
      "outputs": []
    },
    {
      "cell_type": "code",
      "source": [
        "import pandas as pd\n",
        "import geopandas as gpd\n",
        "import plotly.express as px"
      ],
      "metadata": {
        "id": "Ctrfl0vYB_Jv"
      },
      "execution_count": 1,
      "outputs": []
    },
    {
      "cell_type": "code",
      "source": [
        "token = 'pk.eyJ1IjoianJzdmluY2Vuem8iLCJhIjoiY2wxMHc0ZWMyMDA1MDNqcnN4NDAxZHZxayJ9.XC2yFuBp7YjudgxK2Kjq7Q'\n",
        "gdf = gpd.read_file('spainprovinces_def')\n",
        "dataframe = pd.read_csv('acqxcatxtempo.csv',\n",
        "                        sep = ';', encoding= 'unicode_escape')\n",
        "geoprov = pd.read_csv('geoprov5.csv', sep = ';')\n",
        "geoprov.rename(columns = {'prov_id' : 'customer_IDprovince'}, inplace = True)"
      ],
      "metadata": {
        "id": "yduU2591DGMX"
      },
      "execution_count": 6,
      "outputs": []
    },
    {
      "cell_type": "code",
      "source": [
        "def createbestseller():\n",
        "  pivot = pd.pivot_table(dataframe, \n",
        "                         index = ['customer_IDprovince'], \n",
        "                         columns = ['category'], \n",
        "                         aggfunc = 'size', \n",
        "                         fill_value = 0)\n",
        "  pivot_flat = pd.DataFrame(pivot.to_records())\n",
        "  pivot_flat.set_index('customer_IDprovince', inplace = True)\n",
        "  global bestseller_perprov\n",
        "  bestseller_perprov = pd.concat([pivot_flat.index.to_series(),\n",
        "                                pivot_flat.idxmax(axis=1),\n",
        "                                pivot_flat.max(axis=1)],\n",
        "                                 axis = 1).reset_index(drop = True)\n",
        "  if 'Castellón' in pivot_flat:\n",
        "    bestseller_perprov.iloc[47,0] = 'Castellón'\n",
        "  bestseller_perprov.rename(columns = {0:'best_seller'}, inplace = True)\n",
        "  bestseller_perprov = pd.merge(bestseller_perprov, \n",
        "                                geoprov, \n",
        "                                on ='customer_IDprovince', \n",
        "                                how ='inner')\n",
        "  bestseller_perprov.rename(columns = {1:'count'}, inplace = True)\n",
        "\n",
        "  global fig10\n",
        "  fig10 = px.choropleth_mapbox(bestseller_perprov,\n",
        "                               geojson=gdf,\n",
        "                               featureidkey=\"properties.cod_prov\",\n",
        "                               locations=\"customer_IDprovince\",\n",
        "                               color=\"best_seller\",\n",
        "                               color_continuous_scale=\"matter\",\n",
        "                               zoom=3,\n",
        "                               hover_name= 'province',\n",
        "                               hover_data = ['count'],\n",
        "                               center={\"lat\": 40.4999, \"lon\": -3.673},\n",
        "                               labels={\"best_seller\": \"Best Seller Category\"})\n",
        "  \n",
        "  fig10.update_layout(mapbox_style=\"dark\",\n",
        "                      mapbox_accesstoken=token,\n",
        "                      title_x = 0.5)"
      ],
      "metadata": {
        "id": "opEx7Lfr8h_n"
      },
      "execution_count": 3,
      "outputs": []
    },
    {
      "cell_type": "code",
      "source": [
        "def createbestseller2():\n",
        "  global fig1\n",
        "  fig1 = px.scatter_mapbox(bestseller_perprov, lat = 'latprov', lon = 'lonprov',\n",
        "                           size='count',\n",
        "                           zoom=4, opacity = 0.9,\n",
        "                           color = 'best_seller',\n",
        "                           center = {\"lat\": 40.4167, \"lon\": -3.7167},\n",
        "                           labels={\"best_seller\": \"Best Seller Category\"},\n",
        "                           hover_name= 'province',\n",
        "                           hover_data = ['count'])\n",
        "  \n",
        "  fig1.update_layout(mapbox_style=\"dark\",\n",
        "                     mapbox_accesstoken=token,\n",
        "                     title_x = 0.5)"
      ],
      "metadata": {
        "id": "t_VoDlJ8QKLF"
      },
      "execution_count": 4,
      "outputs": []
    },
    {
      "cell_type": "code",
      "source": [
        "while True:\n",
        "  dataframe = pd.read_csv('acqxcatxtempo.csv',\n",
        "                        sep = ';',\n",
        "                        encoding= 'unicode_escape')\n",
        "  \n",
        "  print('Are you interested in all-time stats, by quarter or by year?')\n",
        "  filter = str(input('Just write \"AT\", \"Q\", \"Y\":'))\n",
        "\n",
        "  if filter == 'Q':\n",
        "    year = str(input('Please specify the year you are interested in: (AA)'))\n",
        "    quarter = str(input('Which quarter? (Q1):'))\n",
        "    qy = quarter+year\n",
        "    dataframe = dataframe[(dataframe['quadrimestre acquisto'] == qy)]\n",
        "    \n",
        "    bestseller_perprov = None\n",
        "    fig10 = None\n",
        "    createbestseller()\n",
        "    createbestseller2()\n",
        "\n",
        "    fig10.update_layout(title_text = 'Best selling products per province in {}'.format(qy))\n",
        "    fig1.update_layout(title_text = 'Best selling products per province in {}'.format(qy))\n",
        "    fig10.show()\n",
        "    fig1.show()\n",
        "\n",
        "  elif filter == 'Y':\n",
        "    year = int(input('Please specify the year you are interested in: (AAAA)'))\n",
        "    dataframe = dataframe[(dataframe['anno'] == year)]\n",
        "\n",
        "    bestseller_perprov = None\n",
        "    fig10 = None\n",
        "    createbestseller()\n",
        "    createbestseller2()\n",
        "\n",
        "    fig10.update_layout(title_text = 'Best selling products per province in {}'.format(year))\n",
        "    fig1.update_layout(title_text = 'Best selling products per province in {}'.format(year))\n",
        "    fig10.show()\n",
        "    fig1.show()\n",
        "\n",
        "  else:\n",
        "    bestseller_perprov = None\n",
        "    fig10 = None\n",
        "    fig1 = None\n",
        "    createbestseller()\n",
        "    createbestseller2()\n",
        "\n",
        "    fig10.update_layout(title_text = 'All time best selling products per province')\n",
        "    fig1.update_layout(title_text = 'All time best selling products per province')\n",
        "    fig10.show()\n",
        "    fig1.show()"
      ],
      "metadata": {
        "id": "Qq3xZZsXRcX4"
      },
      "execution_count": null,
      "outputs": []
    }
  ]
}
