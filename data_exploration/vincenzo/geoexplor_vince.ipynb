{
 "cells": [
  {
   "cell_type": "code",
   "execution_count": 4,
   "outputs": [],
   "source": [
    "# pip install geopandas\n",
    "# import geopandas as gpd\n",
    "import plotly.graph_objects as go\n",
    "import plotly.express as px\n",
    "import pandas as pd"
   ],
   "metadata": {
    "collapsed": false,
    "pycharm": {
     "name": "#%%\n"
    }
   }
  },
  {
   "cell_type": "code",
   "execution_count": 5,
   "outputs": [],
   "source": [
    "token = 'pk.eyJ1IjoianJzdmluY2Vuem8iLCJhIjoiY2wxMHc0ZWMyMDA1MDNqcnN4NDAxZHZxayJ9.XC2yFuBp7YjudgxK2Kjq7Q'"
   ],
   "metadata": {
    "collapsed": false,
    "pycharm": {
     "name": "#%%\n"
    }
   }
  },
  {
   "cell_type": "code",
   "execution_count": 6,
   "outputs": [],
   "source": [
    "customers = pd.read_csv('customers.csv', sep =';', dtype={\"id_ac\": str})\n",
    "customers['count'] = 1"
   ],
   "metadata": {
    "collapsed": false,
    "pycharm": {
     "name": "#%%\n"
    }
   }
  },
  {
   "cell_type": "code",
   "execution_count": 7,
   "outputs": [],
   "source": [
    "sellers = pd.read_csv('sellers+review+revenues.csv', dtype={'id_ac': str, 'count_sold': 'int32'})\n",
    "sellers['count'] = 1"
   ],
   "metadata": {
    "collapsed": false,
    "pycharm": {
     "name": "#%%\n"
    }
   }
  },
  {
   "cell_type": "code",
   "execution_count": 8,
   "outputs": [],
   "source": [
    "# SELLERS DISTRIBUTION\n",
    "\n",
    "fig = px.scatter_mapbox(sellers, lat = 'lat_seller', lon = 'long_sell',\n",
    "                         hover_name = 'seller_id', hover_data = ['seller_city'],\n",
    "                         size='count_sold', color_discrete_sequence=[\"fuchsia\"],\n",
    "                         zoom=4, opacity = 0.3, size_max = 50,\n",
    "                         center = {\"lat\": 40.4167, \"lon\": -3.7167})\n",
    "fig.update_layout(mapbox_style=\"dark\", mapbox_accesstoken=token,\n",
    "                  title_text = 'Sellers distribution', title_x = 0.5)\n",
    "fig.show(renderer='browser')"
   ],
   "metadata": {
    "collapsed": false,
    "pycharm": {
     "name": "#%%\n"
    }
   }
  },
  {
   "cell_type": "code",
   "execution_count": 9,
   "outputs": [],
   "source": [
    "# CUSTOMER DISTRIBUTION\n",
    "\n",
    "fig2 = px.scatter_mapbox(customers, lat = 'lat_cust', lon = 'lon_cust',\n",
    "                         hover_name = 'customer_unique_id',\n",
    "                         size='order_count', color_discrete_sequence=['turquoise'],\n",
    "                         zoom=4, opacity = 0.1, size_max = 50,\n",
    "                         center = {\"lat\": 40.4167, \"lon\": -3.7167})\n",
    "fig2.update_layout(mapbox_style=\"dark\", mapbox_accesstoken=token,\n",
    "                   title_text = 'Customer distribution', title_x = 0.5)\n",
    "fig2.show(renderer='browser')"
   ],
   "metadata": {
    "collapsed": false,
    "pycharm": {
     "name": "#%%\n"
    }
   }
  },
  {
   "cell_type": "code",
   "execution_count": 10,
   "outputs": [],
   "source": [
    "#COUNTING SELLERS PER CITY\n",
    "\n",
    "sellersxcity = sellers.groupby(['seller_city', 'lat_seller', 'long_sell']).agg({'count_sold':'sum','count':'sum'}).reset_index()\n",
    "\n",
    "fig3 = px.scatter_mapbox(sellersxcity, lat = 'lat_seller', lon = 'long_sell',\n",
    "                         hover_name = 'seller_city', hover_data = ['count'],\n",
    "                         size='count_sold', color_discrete_sequence=[\"yellow\"],\n",
    "                         zoom=4, opacity = 0.5, size_max = 50,\n",
    "                         center = {\"lat\": 40.4167, \"lon\": -3.7167})\n",
    "\n",
    "fig3.update_layout(mapbox_style=\"dark\", mapbox_accesstoken=token,\n",
    "                   title_text = 'Counting sellers per city', title_x = 0.5)\n",
    "fig3.show(renderer='browser')"
   ],
   "metadata": {
    "collapsed": false,
    "pycharm": {
     "name": "#%%\n"
    }
   }
  },
  {
   "cell_type": "code",
   "execution_count": 11,
   "outputs": [],
   "source": [
    "#COUNTING ORDERS PER CITY\n",
    "\n",
    "orderxcity = customers.groupby(['customer_city', 'lat_cust', 'lon_cust','id_ac']).agg({'order_count':'sum','count':'sum'}).reset_index()\n",
    "\n",
    "fig4 = px.scatter_mapbox(orderxcity, lat = 'lat_cust', lon = 'lon_cust',\n",
    "                         hover_name = 'customer_city', hover_data = ['count'],\n",
    "                         size='order_count', color_discrete_sequence=['lime'],\n",
    "                         zoom=4, opacity = 0.3, size_max = 50,\n",
    "                         center = {\"lat\": 40.4167, \"lon\": -3.7167})\n",
    "\n",
    "fig4.update_layout(mapbox_style=\"dark\", mapbox_accesstoken=token,\n",
    "                   title_text = 'Counting orders per city', title_x = 0.5)\n",
    "fig4.show(renderer='browser')"
   ],
   "metadata": {
    "collapsed": false,
    "pycharm": {
     "name": "#%%\n"
    }
   }
  },
  {
   "cell_type": "code",
   "execution_count": 12,
   "outputs": [],
   "source": [
    "# CHOROPLET ORDERS PER AUTONOMOUS COMMUNITY\n",
    "\n",
    "# gdf = gpd.read_file('map-4.geojson')\n",
    "# orderxac = customers.groupby([\"id_ac\"], as_index=False).agg({\"order_count\": \"sum\"})\n",
    "\n",
    "# fig7 = px.choropleth_mapbox(\n",
    "#    orderxac,\n",
    "#    geojson=gdf,\n",
    "#    featureidkey=\"properties.id_ac\",\n",
    "#    locations=\"id_ac\",\n",
    "#    color=\"order_count\",\n",
    "#    color_continuous_scale=\"matter\",\n",
    "#    zoom=3,\n",
    "#    center={\"lat\": 40.4999, \"lon\": -3.673},\n",
    "#    labels={\"order_count\": \"Count for Orders\"},\n",
    "# )\n",
    "# fig7.update_layout(margin={\"r\": 0, \"t\": 0, \"l\": 0, \"b\": 0})\n",
    "# fig7.update_layout(mapbox_style=\"dark\", mapbox_accesstoken=token)\n",
    "# fig7.show(renderer = 'browser')"
   ],
   "metadata": {
    "collapsed": false,
    "pycharm": {
     "name": "#%%\n"
    }
   }
  },
  {
   "cell_type": "code",
   "execution_count": 14,
   "outputs": [],
   "source": [
    "# ROUTES OF SELLERS AND VENDORS\n",
    "orderlist = pd.read_csv('orderlist.csv').iloc[:,[0,1,2,5,6,3,7,4,8,9]]"
   ],
   "metadata": {
    "collapsed": false,
    "pycharm": {
     "name": "#%%\n"
    }
   }
  },
  {
   "cell_type": "code",
   "execution_count": 15,
   "outputs": [
    {
     "data": {
      "text/plain": "                               order_id                customer_unique_id  \\\n0      9dc8d1a6f16f1b89874c29c9d8d30447  9915eb9f74b6c11aaf04833f65b00e93   \n1      d455a8cb295653b55abda06d434ab492  3c7e305796add66698959fc7ad176f6b   \n2      7f39ba4c9052be115350065d07583cac  9de5797cddb92598755a0f76383ddbbb   \n3      e6ce16cb79ec1d90b1da9085a6118aeb  f2a85dec752b8517b5e58a06ff3cd937   \n4      6ebaec694d7025e2ad4a05dba887c032  4acce2834231e13b1514915adda5ec2b   \n...                                 ...                               ...   \n98664  81251f18621a822ad5b09593dfee4fc9  f992b70fb02cdfadc277f493997515b7   \n98665  021d08e4057e5b6414c8d2f69f4f72a0  5d2db05a565eda438cf5069b7be6b1bb   \n98666  2fbb05b3ee700e1897b9fa501e416005  08da95f931937b2c20f5225f2e6c93b0   \n98667  be580c71d638ce682e9792c27c7aacb2  77f283b88084654cd6ff9867786c36cb   \n98668  94b35c9542f07ad80b3367f9051b63af  f3e9410701ce24f2956a79c7475ab834   \n\n           customer_city                         seller_id seller_city  \\\n0                 Madrid  0015a82c2db000af6aaaf3ae2ecb0532     Córdoba   \n1             Pontevedra  0015a82c2db000af6aaaf3ae2ecb0532     Córdoba   \n2                  Parla  0015a82c2db000af6aaaf3ae2ecb0532     Córdoba   \n3              Barcelona  001cca7ae9ae17fb1caed9dfb1094831    Albacete   \n4              Barcelona  001cca7ae9ae17fb1caed9dfb1094831    Albacete   \n...                  ...                               ...         ...   \n98664               Jaén  ffff564a4f9085cd26170f4732393726      Málaga   \n98665  Alcalá de Henares  ffff564a4f9085cd26170f4732393726      Málaga   \n98666            Córdoba  ffff564a4f9085cd26170f4732393726      Málaga   \n98667             Madrid  ffff564a4f9085cd26170f4732393726      Málaga   \n98668           Pamplona  ffff564a4f9085cd26170f4732393726      Málaga   \n\n       lat_cust  lat_sell  long_cust  long_sell review  \n0       40.4167   37.8845    -3.7167    -4.7796      5  \n1       42.4333   37.8845    -8.6333    -4.7796      5  \n2       40.2372   37.8845    -3.7742    -4.7796      3  \n3       41.3825   38.9956     2.1769    -1.8558      5  \n4       41.3825   38.9956     2.1769    -1.8558      5  \n...         ...       ...        ...        ...    ...  \n98664   37.7667   36.7194    -3.7711    -4.4200      1  \n98665   40.4818   36.7194    -3.3643    -4.4200      4  \n98666   37.8845   36.7194    -4.7796    -4.4200      5  \n98667   40.4167   36.7194    -3.7167    -4.4200      3  \n98668   42.8167   36.7194    -1.6500    -4.4200      1  \n\n[98669 rows x 10 columns]",
      "text/html": "<div>\n<style scoped>\n    .dataframe tbody tr th:only-of-type {\n        vertical-align: middle;\n    }\n\n    .dataframe tbody tr th {\n        vertical-align: top;\n    }\n\n    .dataframe thead th {\n        text-align: right;\n    }\n</style>\n<table border=\"1\" class=\"dataframe\">\n  <thead>\n    <tr style=\"text-align: right;\">\n      <th></th>\n      <th>order_id</th>\n      <th>customer_unique_id</th>\n      <th>customer_city</th>\n      <th>seller_id</th>\n      <th>seller_city</th>\n      <th>lat_cust</th>\n      <th>lat_sell</th>\n      <th>long_cust</th>\n      <th>long_sell</th>\n      <th>review</th>\n    </tr>\n  </thead>\n  <tbody>\n    <tr>\n      <th>0</th>\n      <td>9dc8d1a6f16f1b89874c29c9d8d30447</td>\n      <td>9915eb9f74b6c11aaf04833f65b00e93</td>\n      <td>Madrid</td>\n      <td>0015a82c2db000af6aaaf3ae2ecb0532</td>\n      <td>Córdoba</td>\n      <td>40.4167</td>\n      <td>37.8845</td>\n      <td>-3.7167</td>\n      <td>-4.7796</td>\n      <td>5</td>\n    </tr>\n    <tr>\n      <th>1</th>\n      <td>d455a8cb295653b55abda06d434ab492</td>\n      <td>3c7e305796add66698959fc7ad176f6b</td>\n      <td>Pontevedra</td>\n      <td>0015a82c2db000af6aaaf3ae2ecb0532</td>\n      <td>Córdoba</td>\n      <td>42.4333</td>\n      <td>37.8845</td>\n      <td>-8.6333</td>\n      <td>-4.7796</td>\n      <td>5</td>\n    </tr>\n    <tr>\n      <th>2</th>\n      <td>7f39ba4c9052be115350065d07583cac</td>\n      <td>9de5797cddb92598755a0f76383ddbbb</td>\n      <td>Parla</td>\n      <td>0015a82c2db000af6aaaf3ae2ecb0532</td>\n      <td>Córdoba</td>\n      <td>40.2372</td>\n      <td>37.8845</td>\n      <td>-3.7742</td>\n      <td>-4.7796</td>\n      <td>3</td>\n    </tr>\n    <tr>\n      <th>3</th>\n      <td>e6ce16cb79ec1d90b1da9085a6118aeb</td>\n      <td>f2a85dec752b8517b5e58a06ff3cd937</td>\n      <td>Barcelona</td>\n      <td>001cca7ae9ae17fb1caed9dfb1094831</td>\n      <td>Albacete</td>\n      <td>41.3825</td>\n      <td>38.9956</td>\n      <td>2.1769</td>\n      <td>-1.8558</td>\n      <td>5</td>\n    </tr>\n    <tr>\n      <th>4</th>\n      <td>6ebaec694d7025e2ad4a05dba887c032</td>\n      <td>4acce2834231e13b1514915adda5ec2b</td>\n      <td>Barcelona</td>\n      <td>001cca7ae9ae17fb1caed9dfb1094831</td>\n      <td>Albacete</td>\n      <td>41.3825</td>\n      <td>38.9956</td>\n      <td>2.1769</td>\n      <td>-1.8558</td>\n      <td>5</td>\n    </tr>\n    <tr>\n      <th>...</th>\n      <td>...</td>\n      <td>...</td>\n      <td>...</td>\n      <td>...</td>\n      <td>...</td>\n      <td>...</td>\n      <td>...</td>\n      <td>...</td>\n      <td>...</td>\n      <td>...</td>\n    </tr>\n    <tr>\n      <th>98664</th>\n      <td>81251f18621a822ad5b09593dfee4fc9</td>\n      <td>f992b70fb02cdfadc277f493997515b7</td>\n      <td>Jaén</td>\n      <td>ffff564a4f9085cd26170f4732393726</td>\n      <td>Málaga</td>\n      <td>37.7667</td>\n      <td>36.7194</td>\n      <td>-3.7711</td>\n      <td>-4.4200</td>\n      <td>1</td>\n    </tr>\n    <tr>\n      <th>98665</th>\n      <td>021d08e4057e5b6414c8d2f69f4f72a0</td>\n      <td>5d2db05a565eda438cf5069b7be6b1bb</td>\n      <td>Alcalá de Henares</td>\n      <td>ffff564a4f9085cd26170f4732393726</td>\n      <td>Málaga</td>\n      <td>40.4818</td>\n      <td>36.7194</td>\n      <td>-3.3643</td>\n      <td>-4.4200</td>\n      <td>4</td>\n    </tr>\n    <tr>\n      <th>98666</th>\n      <td>2fbb05b3ee700e1897b9fa501e416005</td>\n      <td>08da95f931937b2c20f5225f2e6c93b0</td>\n      <td>Córdoba</td>\n      <td>ffff564a4f9085cd26170f4732393726</td>\n      <td>Málaga</td>\n      <td>37.8845</td>\n      <td>36.7194</td>\n      <td>-4.7796</td>\n      <td>-4.4200</td>\n      <td>5</td>\n    </tr>\n    <tr>\n      <th>98667</th>\n      <td>be580c71d638ce682e9792c27c7aacb2</td>\n      <td>77f283b88084654cd6ff9867786c36cb</td>\n      <td>Madrid</td>\n      <td>ffff564a4f9085cd26170f4732393726</td>\n      <td>Málaga</td>\n      <td>40.4167</td>\n      <td>36.7194</td>\n      <td>-3.7167</td>\n      <td>-4.4200</td>\n      <td>3</td>\n    </tr>\n    <tr>\n      <th>98668</th>\n      <td>94b35c9542f07ad80b3367f9051b63af</td>\n      <td>f3e9410701ce24f2956a79c7475ab834</td>\n      <td>Pamplona</td>\n      <td>ffff564a4f9085cd26170f4732393726</td>\n      <td>Málaga</td>\n      <td>42.8167</td>\n      <td>36.7194</td>\n      <td>-1.6500</td>\n      <td>-4.4200</td>\n      <td>1</td>\n    </tr>\n  </tbody>\n</table>\n<p>98669 rows × 10 columns</p>\n</div>"
     },
     "execution_count": 15,
     "metadata": {},
     "output_type": "execute_result"
    }
   ],
   "source": [
    "orderlist"
   ],
   "metadata": {
    "collapsed": false,
    "pycharm": {
     "name": "#%%\n"
    }
   }
  },
  {
   "cell_type": "code",
   "execution_count": 16,
   "outputs": [],
   "source": [
    "filtercity = str(input('Provide a city to filter:'))\n",
    "forderlist = orderlist[orderlist['seller_city'] == filtercity]"
   ],
   "metadata": {
    "collapsed": false,
    "pycharm": {
     "name": "#%%\n"
    }
   }
  },
  {
   "cell_type": "code",
   "execution_count": 17,
   "outputs": [],
   "source": [
    "fig = go.Figure(go.Scattermapbox(\n",
    "    mode = \"markers\",\n",
    "    lon = forderlist.long_sell, lat = forderlist.lat_sell,\n",
    "    text = forderlist.seller_city,\n",
    "    textposition = \"bottom right\",\n",
    "    marker = dict(color = 'fuchsia', size = 4)))\n",
    "\n",
    "fig.add_trace(go.Scattermapbox(\n",
    "    mode = \"markers\",\n",
    "    lon = forderlist.long_cust, lat = forderlist.lat_cust,\n",
    "    text = forderlist.customer_city,\n",
    "    textposition = \"bottom right\",\n",
    "    marker = dict(color = 'fuchsia', size = 4)))\n",
    "\n",
    "i = 0\n",
    "for i in range(len(forderlist)):\n",
    "    df = forderlist.iloc[i,:]\n",
    "    lat = df.iloc[5:7]\n",
    "    lon = df.iloc[7:9]\n",
    "\n",
    "    fig.add_trace(go.Scattermapbox(\n",
    "        mode = \"lines\",\n",
    "        lon = lon, lat = lat,\n",
    "        line=dict(width=2, color = 'fuchsia')))\n",
    "    i += 1\n",
    "\n",
    "fig.update_layout(showlegend = False,\n",
    "                  mapbox=dict(style = 'dark', accesstoken = token,\n",
    "                              bearing=0, center=go.layout.mapbox.Center(\n",
    "                                                                    lat=40.4167,\n",
    "                                                                    lon=-3.7167),\n",
    "                              pitch=0,\n",
    "                              zoom=4),\n",
    "                  title_text = 'Routes of orders from {}'.format(filtercity), title_x = 0.5)\n",
    "fig.show(renderer='browser')\n",
    "\n",
    "# orderlist['color'] = 0\n",
    "# i = 0\n",
    "# for i in range(len(orderlist)):\n",
    "#    if orderlist.iloc[i,4] == 'Córdoba':\n",
    "#        orderlist.iloc[i,-1] = 'red'\n",
    "#    else:\n",
    "#        orderlist.iloc[i,-1] = 'green'\n",
    "#    i =+ 1"
   ],
   "metadata": {
    "collapsed": false,
    "pycharm": {
     "name": "#%%\n"
    }
   }
  },
  {
   "cell_type": "code",
   "execution_count": null,
   "outputs": [],
   "source": [],
   "metadata": {
    "collapsed": false,
    "pycharm": {
     "name": "#%%\n"
    }
   }
  }
 ],
 "metadata": {
  "kernelspec": {
   "display_name": "Python 3",
   "language": "python",
   "name": "python3"
  },
  "language_info": {
   "codemirror_mode": {
    "name": "ipython",
    "version": 2
   },
   "file_extension": ".py",
   "mimetype": "text/x-python",
   "name": "python",
   "nbconvert_exporter": "python",
   "pygments_lexer": "ipython2",
   "version": "2.7.6"
  }
 },
 "nbformat": 4,
 "nbformat_minor": 0
}