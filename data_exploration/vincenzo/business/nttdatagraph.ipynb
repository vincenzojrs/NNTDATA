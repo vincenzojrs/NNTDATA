{
 "cells": [
  {
   "cell_type": "code",
   "execution_count": 1,
   "metadata": {
    "collapsed": true
   },
   "outputs": [],
   "source": [
    "import pandas as pd\n",
    "import plotly.express as px\n",
    "import seaborn as sns\n",
    "import matplotlib.pyplot as plt\n",
    "import numpy as np\n",
    "\n",
    "sellers = pd.read_csv('sellers+review+revenues.csv').sort_values('revenues', ascending = False).reset_index()\n",
    "sellers['revxord'] = sellers['revenues']/sellers['count_sold']"
   ]
  },
  {
   "cell_type": "code",
   "execution_count": 19,
   "outputs": [],
   "source": [
    "# NUMBER OF ORDERS AND REVENUES PER SELLER IN SPAIN\n",
    "\n",
    "fig = px.bar(sellers, x='seller_city',\n",
    "             y='count_sold',\n",
    "             height=1000,\n",
    "             hover_name ='seller_id',\n",
    "             color='revenues',\n",
    "             labels=dict(revenues=\"Revenues\"))\n",
    "\n",
    "fig.update_layout(xaxis={'categoryorder':'total descending'},\n",
    "                  title_text = 'Number of orders and revenues per seller in Spain',\n",
    "                  title_x = 0.5,\n",
    "                  plot_bgcolor='white')\n",
    "\n",
    "fig.update_xaxes(title_text='Seller City')\n",
    "fig.update_yaxes(title_text='n. Orders')\n",
    "fig.show(renderer='browser')"
   ],
   "metadata": {
    "collapsed": false,
    "pycharm": {
     "name": "#%%\n"
    }
   }
  },
  {
   "cell_type": "code",
   "execution_count": 18,
   "outputs": [],
   "source": [
    "# AVERAGE REVENUE PER SELLER IN SPAIN\n",
    "\n",
    "fig2 = px.bar(sellers,\n",
    "              x='seller_city',\n",
    "              y='revxord',\n",
    "              height=1000,\n",
    "              hover_name ='seller_id',\n",
    "              color = 'revenues',\n",
    "              labels=dict(revenues=\"Revenues\"))\n",
    "\n",
    "fig2.update_layout(xaxis={'categoryorder':'total descending'},\n",
    "                   title_text = 'Average revenue per seller in Spain',\n",
    "                   title_x = 0.5,\n",
    "                   plot_bgcolor='white')\n",
    "\n",
    "fig2.update_xaxes(title_text='Seller City')\n",
    "fig2.update_yaxes(title_text='Average Revenues')\n",
    "\n",
    "fig2.show(renderer='browser')"
   ],
   "metadata": {
    "collapsed": false,
    "pycharm": {
     "name": "#%%\n"
    }
   }
  },
  {
   "cell_type": "code",
   "execution_count": 4,
   "outputs": [],
   "source": [
    "# REVENUES AND AVERAGE REVENUES FOR THE FIRST N SELLERS FROM X CITY\n",
    "\n",
    "filtercity = str(input('Provide a city to filter:'))\n",
    "fsellers = sellers[sellers['seller_city'] == filtercity]\n",
    "if len(fsellers) > 100:\n",
    "    fsellers = fsellers.iloc[:100,:]"
   ],
   "metadata": {
    "collapsed": false,
    "pycharm": {
     "name": "#%%\n"
    }
   }
  },
  {
   "cell_type": "code",
   "execution_count": 17,
   "outputs": [],
   "source": [
    "fig3 = px.bar(fsellers,\n",
    "              x='seller_id',\n",
    "              y='revenues',\n",
    "              color='revxord',\n",
    "              hover_data = ['count_sold'],\n",
    "              labels=dict(revxord=\"Average Revenue\"))\n",
    "\n",
    "fig3.update_layout(xaxis={'categoryorder':'total descending'},\n",
    "                   title_text = 'Revenues and average revenues for the first {} sellers from {}'.format(len(fsellers) ,filtercity),\n",
    "                   title_x = 0.5,\n",
    "                   plot_bgcolor='white')\n",
    "\n",
    "fig3.update_xaxes(title_text='Seller ID', showticklabels = False)\n",
    "fig3.update_yaxes(title_text='Revenues')\n",
    "fig3.show(renderer='browser')"
   ],
   "metadata": {
    "collapsed": false,
    "pycharm": {
     "name": "#%%\n"
    }
   }
  },
  {
   "cell_type": "code",
   "execution_count": null,
   "outputs": [],
   "source": [
    "# ARE REVIEWS AFFECTING REVENUES?\n",
    "\n",
    "df = sellers.iloc[:,[-1,-2,-3,-4]]\n",
    "\n",
    "corr = df.corr()\n",
    "mask = np.zeros_like(corr)\n",
    "mask[np.triu_indices_from(mask)] = True\n",
    "\n",
    "heatmaplabels = ['Average Revenues','Average Reviews','Revenues','n. Order']\n",
    "\n",
    "plt.figure(dpi = 300)\n",
    "sns.heatmap(corr,\n",
    "            xticklabels = heatmaplabels,\n",
    "            yticklabels = heatmaplabels,\n",
    "            cmap = 'PiYG',\n",
    "            cbar = False,\n",
    "            annot = True,\n",
    "            mask = mask)\n",
    "\n",
    "plt.suptitle('Are reviews affecting revenues?')\n",
    "plt.title('They are not', fontsize = 8)"
   ],
   "metadata": {
    "collapsed": false,
    "pycharm": {
     "name": "#%%\n",
     "is_executing": true
    }
   }
  },
  {
   "cell_type": "code",
   "execution_count": 7,
   "outputs": [],
   "source": [
    "sellers1 = pd.read_csv('sellers+review+revenues.csv')"
   ],
   "metadata": {
    "collapsed": false,
    "pycharm": {
     "name": "#%%\n"
    }
   }
  },
  {
   "cell_type": "code",
   "execution_count": 9,
   "outputs": [],
   "source": [
    "fig4 = px.scatter(sellers1, x='seller_id',\n",
    "                  y='review_avg',\n",
    "                  hover_name ='seller_id',\n",
    "                  size = 'revenues',\n",
    "                  marginal_y = 'box',\n",
    "                  color_discrete_sequence=['green'])\n",
    "\n",
    "fig4.update_layout(xaxis={'categoryorder':'total descending'},\n",
    "                   title_text = 'Reviews per seller, size are Revenues'\n",
    "                                '<br><sup>As expected, even with low reviews, the revenues can be high</sup>',\n",
    "                   title_x = 0.5,\n",
    "                   plot_bgcolor='white')\n",
    "\n",
    "fig4.update_yaxes(title_text='Average Review')\n",
    "\n",
    "fig4.update_xaxes(title_text='Seller ID',\n",
    "                  showticklabels = False)\n",
    "\n",
    "fig4.update(layout_coloraxis_showscale=False)\n",
    "\n",
    "fig4.show(renderer='browser')"
   ],
   "metadata": {
    "collapsed": false,
    "pycharm": {
     "name": "#%%\n"
    }
   }
  }
 ],
 "metadata": {
  "kernelspec": {
   "display_name": "Python 3",
   "language": "python",
   "name": "python3"
  },
  "language_info": {
   "codemirror_mode": {
    "name": "ipython",
    "version": 2
   },
   "file_extension": ".py",
   "mimetype": "text/x-python",
   "name": "python",
   "nbconvert_exporter": "python",
   "pygments_lexer": "ipython2",
   "version": "2.7.6"
  }
 },
 "nbformat": 4,
 "nbformat_minor": 0
}