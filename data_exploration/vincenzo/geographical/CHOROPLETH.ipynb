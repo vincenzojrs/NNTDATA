{
 "cells": [
  {
   "cell_type": "code",
   "execution_count": 1,
   "outputs": [],
   "source": [
    "# pip install geopandas\n",
    "# import geopandas as gpd\n",
    "import plotly.graph_objects as go\n",
    "import plotly.express as px\n",
    "import pandas as pd"
   ],
   "metadata": {
    "collapsed": false,
    "pycharm": {
     "name": "#%%\n"
    }
   }
  },
  {
   "cell_type": "code",
   "execution_count": 2,
   "outputs": [],
   "source": [
    "token = 'pk.eyJ1IjoianJzdmluY2Vuem8iLCJhIjoiY2wxMHc0ZWMyMDA1MDNqcnN4NDAxZHZxayJ9.XC2yFuBp7YjudgxK2Kjq7Q'"
   ],
   "metadata": {
    "collapsed": false,
    "pycharm": {
     "name": "#%%\n"
    }
   }
  },
  {
   "cell_type": "code",
   "execution_count": 3,
   "outputs": [],
   "source": [
    "customers = pd.read_csv('CUSTOMERS.csv', sep =';', dtype={\"id_ac\": str})\n",
    "customers['count'] = 1"
   ],
   "metadata": {
    "collapsed": false,
    "pycharm": {
     "name": "#%%\n"
    }
   }
  },
  {
   "cell_type": "code",
   "execution_count": 4,
   "outputs": [],
   "source": [
    "sellers = pd.read_csv('SELLERS.csv', sep = ';',  dtype={'id_ac': str, 'count_sold': 'int32'})\n",
    "sellers['count'] = 1"
   ],
   "metadata": {
    "collapsed": false,
    "pycharm": {
     "name": "#%%\n"
    }
   }
  },
  {
   "cell_type": "code",
   "execution_count": 5,
   "outputs": [],
   "source": [
    "# SELLERS DISTRIBUTION\n",
    "\n",
    "fig = px.scatter_mapbox(sellers, lat = 'lat_seller', lon = 'long_sell',\n",
    "                         hover_name = 'seller_id', hover_data = ['seller_city'],\n",
    "                         size='count_sold', color_discrete_sequence=[\"fuchsia\"],\n",
    "                         zoom=4, opacity = 0.3, size_max = 50,\n",
    "                         center = {\"lat\": 40.4167, \"lon\": -3.7167})\n",
    "fig.update_layout(mapbox_style=\"dark\", mapbox_accesstoken=token,\n",
    "                  title_text = 'Sellers distribution', title_x = 0.5)\n",
    "fig.show(renderer='browser')"
   ],
   "metadata": {
    "collapsed": false,
    "pycharm": {
     "name": "#%%\n"
    }
   }
  },
  {
   "cell_type": "code",
   "execution_count": 6,
   "outputs": [],
   "source": [
    "# CUSTOMER DISTRIBUTION\n",
    "\n",
    "fig2 = px.scatter_mapbox(customers, lat = 'lat_cust', lon = 'lon_cust',\n",
    "                         hover_name = 'customer_unique_id',\n",
    "                         size='order_count', color_discrete_sequence=['turquoise'],\n",
    "                         zoom=4, opacity = 0.1, size_max = 50,\n",
    "                         center = {\"lat\": 40.4167, \"lon\": -3.7167})\n",
    "fig2.update_layout(mapbox_style=\"dark\", mapbox_accesstoken=token,\n",
    "                   title_text = 'Customer distribution', title_x = 0.5)\n",
    "fig2.show(renderer='browser')"
   ],
   "metadata": {
    "collapsed": false,
    "pycharm": {
     "name": "#%%\n"
    }
   }
  },
  {
   "cell_type": "code",
   "execution_count": 16,
   "outputs": [],
   "source": [
    "#COUNTING SELLERS PER CITY\n",
    "\n",
    "sellersxcity = sellers.groupby(['seller_city', 'lat_seller', 'long_sell']).agg({'count_sold':'sum','count':'sum'}).reset_index()\n",
    "\n",
    "fig3 = px.scatter_mapbox(sellersxcity, lat = 'lat_seller', lon = 'long_sell',\n",
    "                         hover_name = 'seller_city', hover_data = ['count'],\n",
    "                         size='count_sold', color_discrete_sequence=[\"yellow\"],\n",
    "                         zoom=4, opacity = 0.5, size_max = 50,\n",
    "                         center = {\"lat\": 40.4167, \"lon\": -3.7167})\n",
    "\n",
    "fig3.update_layout(mapbox_style=\"dark\", mapbox_accesstoken=token,\n",
    "                   title_text = 'Counting sellers per city', title_x = 0.5)\n",
    "fig3.show(renderer='browser')"
   ],
   "metadata": {
    "collapsed": false,
    "pycharm": {
     "name": "#%%\n"
    }
   }
  },
  {
   "cell_type": "code",
   "execution_count": 7,
   "outputs": [],
   "source": [
    "#COUNTING ORDERS PER CITY\n",
    "\n",
    "orderxcity = customers.groupby(['customer_city', 'lat_cust', 'lon_cust','id_ac']).agg({'order_count':'sum','count':'sum'}).reset_index()\n",
    "\n",
    "fig4 = px.scatter_mapbox(orderxcity, lat = 'lat_cust', lon = 'lon_cust',\n",
    "                         hover_name = 'customer_city', hover_data = ['count'],\n",
    "                         size='order_count', color_discrete_sequence=['lime'],\n",
    "                         zoom=4, opacity = 0.3, size_max = 50,\n",
    "                         center = {\"lat\": 40.4167, \"lon\": -3.7167})\n",
    "\n",
    "fig4.update_layout(mapbox_style=\"dark\", mapbox_accesstoken=token,\n",
    "                   title_text = 'Counting orders per city', title_x = 0.5)\n",
    "fig4.show(renderer='browser')"
   ],
   "metadata": {
    "collapsed": false,
    "pycharm": {
     "name": "#%%\n"
    }
   }
  },
  {
   "cell_type": "code",
   "execution_count": null,
   "outputs": [],
   "source": [
    "# CHOROPLET ORDERS PER AUTONOMOUS COMMUNITY\n",
    "\n",
    "# gdf = gpd.read_file('map-4.geojson')\n",
    "# orderxac = customers.groupby([\"id_ac\"], as_index=False).agg({\"order_count\": \"sum\"})\n",
    "\n",
    "# fig7 = px.choropleth_mapbox(\n",
    "#    orderxac,\n",
    "#    geojson=gdf,\n",
    "#    featureidkey=\"properties.id_ac\",\n",
    "#    locations=\"id_ac\",\n",
    "#    color=\"order_count\",\n",
    "#    color_continuous_scale=\"matter\",\n",
    "#    zoom=3,\n",
    "#    center={\"lat\": 40.4999, \"lon\": -3.673},\n",
    "#    labels={\"order_count\": \"Count for Orders\"},\n",
    "# )\n",
    "# fig7.update_layout(margin={\"r\": 0, \"t\": 0, \"l\": 0, \"b\": 0})\n",
    "# fig7.update_layout(mapbox_style=\"dark\", mapbox_accesstoken=token)\n",
    "# fig7.show(renderer = 'browser')"
   ],
   "metadata": {
    "collapsed": false,
    "pycharm": {
     "name": "#%%\n",
     "is_executing": true
    }
   }
  },
  {
   "cell_type": "code",
   "execution_count": 8,
   "outputs": [],
   "source": [
    "# ROUTES OF SELLERS AND VENDORS\n",
    "\n",
    "orderlist = pd.read_csv('ORDERLIST.csv', sep =';').iloc[:,[0,1,2,5,6,3,7,4,8]]"
   ],
   "metadata": {
    "collapsed": false,
    "pycharm": {
     "name": "#%%\n"
    }
   }
  },
  {
   "cell_type": "code",
   "execution_count": 9,
   "outputs": [],
   "source": [
    "filtercity = str(input('Provide a city to filter:'))\n",
    "forderlist = orderlist[orderlist['seller_city'] == filtercity]"
   ],
   "metadata": {
    "collapsed": false,
    "pycharm": {
     "name": "#%%\n"
    }
   }
  },
  {
   "cell_type": "code",
   "execution_count": 10,
   "outputs": [],
   "source": [
    "fig = go.Figure(go.Scattermapbox(\n",
    "    mode = \"markers\",\n",
    "    lon = forderlist.long_sell, lat = forderlist.lat_sell,\n",
    "    text = forderlist.seller_city,\n",
    "    textposition = \"bottom right\",\n",
    "    marker = dict(color = 'fuchsia', size = 4)))\n",
    "\n",
    "fig.add_trace(go.Scattermapbox(\n",
    "    mode = \"markers\",\n",
    "    lon = forderlist.long_cust, lat = forderlist.lat_cust,\n",
    "    text = forderlist.customer_city,\n",
    "    textposition = \"bottom right\",\n",
    "    marker = dict(color = 'fuchsia', size = 4)))\n",
    "\n",
    "i = 0\n",
    "for i in range(len(forderlist)):\n",
    "    df = forderlist.iloc[i,:]\n",
    "    lat = df.iloc[5:7]\n",
    "    lon = df.iloc[7:9]\n",
    "\n",
    "    fig.add_trace(go.Scattermapbox(\n",
    "        mode = \"lines\",\n",
    "        lon = lon, lat = lat,\n",
    "        line=dict(width=2, color = 'fuchsia')))\n",
    "    i += 1\n",
    "\n",
    "fig.update_layout(showlegend = False,\n",
    "                  mapbox=dict(style = 'dark', accesstoken = token,\n",
    "                              bearing=0, center=go.layout.mapbox.Center(\n",
    "                                                                    lat=40.4167,\n",
    "                                                                    lon=-3.7167),\n",
    "                              pitch=0,\n",
    "                              zoom=4),\n",
    "                  title_text = 'Routes of orders from {}'.format(filtercity), title_x = 0.5)\n",
    "fig.show(renderer='browser')\n",
    "\n",
    "# orderlist['color'] = 0\n",
    "# i = 0\n",
    "# for i in range(len(orderlist)):\n",
    "#    if orderlist.iloc[i,4] == 'Córdoba':\n",
    "#        orderlist.iloc[i,-1] = 'red'\n",
    "#    else:\n",
    "#        orderlist.iloc[i,-1] = 'green'\n",
    "#    i =+ 1"
   ],
   "metadata": {
    "collapsed": false,
    "pycharm": {
     "name": "#%%\n"
    }
   }
  },
  {
   "cell_type": "code",
   "execution_count": null,
   "outputs": [],
   "source": [],
   "metadata": {
    "collapsed": false,
    "pycharm": {
     "name": "#%%\n"
    }
   }
  }
 ],
 "metadata": {
  "kernelspec": {
   "display_name": "Python 3",
   "language": "python",
   "name": "python3"
  },
  "language_info": {
   "codemirror_mode": {
    "name": "ipython",
    "version": 2
   },
   "file_extension": ".py",
   "mimetype": "text/x-python",
   "name": "python",
   "nbconvert_exporter": "python",
   "pygments_lexer": "ipython2",
   "version": "2.7.6"
  }
 },
 "nbformat": 4,
 "nbformat_minor": 0
}